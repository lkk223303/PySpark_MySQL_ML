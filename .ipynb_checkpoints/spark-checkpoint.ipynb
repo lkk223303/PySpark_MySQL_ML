{
 "cells": [
  {
   "cell_type": "code",
   "execution_count": 3,
   "id": "62031067-d737-4d16-afa1-787e6dca1074",
   "metadata": {},
   "outputs": [
    {
     "name": "stdout",
     "output_type": "stream",
     "text": [
      "<pyspark.sql.session.SparkSession object at 0x7fc1440c8bb0>\n"
     ]
    }
   ],
   "source": [
    "from pyspark.sql import SparkSession\n",
    "\n",
    "spark = SparkSession.builder.getOrCreate()\n"
   ]
  },
  {
   "cell_type": "code",
   "execution_count": 8,
   "id": "41a0be1d-208b-4429-94d6-ce14233baa01",
   "metadata": {},
   "outputs": [
    {
     "name": "stdout",
     "output_type": "stream",
     "text": [
      "root\n",
      " |-- \"fixed acidity\";\"volatile acidity\";\"citric acid\";\"residual sugar\";\"chlorides\";\"free sulfur dioxide\";\"total sulfur dioxide\";\"density\";\"pH\";\"sulphates\";\"alcohol\";\"quality\": string (nullable = true)\n",
      "\n"
     ]
    }
   ],
   "source": [
    "df = spark.read\\\n",
    "        .option('header',True)\\\n",
    "        .option('escape','\"')\\\n",
    "        .option('inferSchema', True)\\\n",
    "        .csv('winequality-white.csv')\n",
    "df.printSchema()"
   ]
  },
  {
   "cell_type": "code",
   "execution_count": 29,
   "id": "29faad40-fe7a-4cbd-9d7a-16580846f08d",
   "metadata": {},
   "outputs": [
    {
     "data": {
      "text/plain": [
       "[Row(\"fixed acidity\";\"volatile acidity\";\"citric acid\";\"residual sugar\";\"chlorides\";\"free sulfur dioxide\";\"total sulfur dioxide\";\"density\";\"pH\";\"sulphates\";\"alcohol\";\"quality\"='7;0.27;0.36;20.7;0.045;45;170;1.001;3;0.45;8.8;6')]"
      ]
     },
     "execution_count": 29,
     "metadata": {},
     "output_type": "execute_result"
    }
   ],
   "source": [
    "df.select('fixed acidity').limit(1).collect()"
   ]
  },
  {
   "cell_type": "code",
   "execution_count": null,
   "id": "b77f1827-86ee-42d1-a4f2-5b29520eebf0",
   "metadata": {},
   "outputs": [],
   "source": []
  }
 ],
 "metadata": {
  "kernelspec": {
   "display_name": "Python 3 (ipykernel)",
   "language": "python",
   "name": "python3"
  },
  "language_info": {
   "codemirror_mode": {
    "name": "ipython",
    "version": 3
   },
   "file_extension": ".py",
   "mimetype": "text/x-python",
   "name": "python",
   "nbconvert_exporter": "python",
   "pygments_lexer": "ipython3",
   "version": "3.10.8"
  }
 },
 "nbformat": 4,
 "nbformat_minor": 5
}
